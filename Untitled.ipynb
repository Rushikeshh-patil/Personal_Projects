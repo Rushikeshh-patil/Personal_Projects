{
 "cells": [
  {
   "cell_type": "code",
   "execution_count": 2,
   "metadata": {
    "scrolled": false
   },
   "outputs": [
    {
     "name": "stdout",
     "output_type": "stream",
     "text": [
      "Collecting requests\n",
      "\u001b[?25l  Downloading https://files.pythonhosted.org/packages/45/1e/0c169c6a5381e241ba7404532c16a21d86ab872c9bed8bdcd4c423954103/requests-2.24.0-py2.py3-none-any.whl (61kB)\n",
      "\u001b[K     |████████████████████████████████| 71kB 1.4MB/s eta 0:00:011\n",
      "\u001b[?25hCollecting chardet<4,>=3.0.2 (from requests)\n",
      "\u001b[?25l  Downloading https://files.pythonhosted.org/packages/bc/a9/01ffebfb562e4274b6487b4bb1ddec7ca55ec7510b22e4c51f14098443b8/chardet-3.0.4-py2.py3-none-any.whl (133kB)\n",
      "\u001b[K     |████████████████████████████████| 143kB 7.4MB/s eta 0:00:01\n",
      "\u001b[?25hCollecting urllib3!=1.25.0,!=1.25.1,<1.26,>=1.21.1 (from requests)\n",
      "\u001b[?25l  Downloading https://files.pythonhosted.org/packages/e1/e5/df302e8017440f111c11cc41a6b432838672f5a70aa29227bf58149dc72f/urllib3-1.25.9-py2.py3-none-any.whl (126kB)\n",
      "\u001b[K     |████████████████████████████████| 133kB 18.9MB/s eta 0:00:01\n",
      "\u001b[?25hCollecting idna<3,>=2.5 (from requests)\n",
      "\u001b[?25l  Downloading https://files.pythonhosted.org/packages/89/e3/afebe61c546d18fb1709a61bee788254b40e736cff7271c7de5de2dc4128/idna-2.9-py2.py3-none-any.whl (58kB)\n",
      "\u001b[K     |████████████████████████████████| 61kB 7.6MB/s eta 0:00:011\n",
      "\u001b[?25hRequirement already satisfied: certifi>=2017.4.17 in /snap/jupyter/6/lib/python3.7/site-packages (from requests) (2019.3.9)\n",
      "Installing collected packages: chardet, urllib3, idna, requests\n",
      "Successfully installed chardet-3.0.4 idna-2.9 requests-2.24.0 urllib3-1.25.9\n",
      "Note: you may need to restart the kernel to use updated packages.\n"
     ]
    }
   ],
   "source": [
    "pip install requests"
   ]
  },
  {
   "cell_type": "code",
   "execution_count": 7,
   "metadata": {},
   "outputs": [
    {
     "name": "stdout",
     "output_type": "stream",
     "text": [
      "https://data.cityofnewyork.us/resource/ic3t-wcy2.json?$$app_token=JRzXhDCoskeaC7oyCwEny9HRX&borough=BROOKLYN&house__=6711\n",
      "{'error': True, 'message': 'You must be logged in to access this resource'}\n"
     ]
    }
   ],
   "source": [
    "from urllib.request import urlopen\n",
    "import json \n",
    "import requests\n",
    "from urllib.parse import urlencode\n",
    "\n",
    "app_token = 'JRzXhDCoskeaC7oyCwEny9HRX'\n",
    "endpoint = f'https://data.cityofnewyork.us/resource/ic3t-wcy2.json?$$app_token={app_token}&'\n",
    "borough = 'BROOKLYN'\n",
    "house_number = 6711\n",
    "\n",
    "\n",
    "r = requests.post('http://soda.demo.socrata.com?', auth=('8e1opzbvvmfbj33klbdhflgfu', '2hypbqgitvabt0ux3cu4wtiawwbhsze67u2q914qz1xmci5gkj'))\n",
    "data = urlencode({'borough':f'{borough}','house__':f'{house_number}'})\n",
    "url = endpoint + data\n",
    "print(url)\n",
    "r = requests.post(url)\n",
    "recieved = r.json()\n",
    "print(recieved)"
   ]
  },
  {
   "cell_type": "code",
   "execution_count": null,
   "metadata": {},
   "outputs": [],
   "source": []
  }
 ],
 "metadata": {
  "kernelspec": {
   "display_name": "Python 3",
   "language": "python",
   "name": "python3"
  },
  "language_info": {
   "codemirror_mode": {
    "name": "ipython",
    "version": 3
   },
   "file_extension": ".py",
   "mimetype": "text/x-python",
   "name": "python",
   "nbconvert_exporter": "python",
   "pygments_lexer": "ipython3",
   "version": "3.7.3"
  }
 },
 "nbformat": 4,
 "nbformat_minor": 2
}
